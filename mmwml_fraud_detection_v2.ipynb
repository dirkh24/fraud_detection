{
 "cells": [
  {
   "cell_type": "markdown",
   "metadata": {
    "colab_type": "text",
    "id": "e0KUm0at-rHG"
   },
   "source": [
    "# Week 3 - Homework for the course Make Money with Machine Learning from Siraj Raval\n",
    "\n",
    "The Question:\n",
    "\n",
    "In this competition you are predicting the probability that an online transaction is fraudulent, as denoted by the binary target isFraud.\n"
   ]
  },
  {
   "cell_type": "markdown",
   "metadata": {
    "colab_type": "text",
    "id": "qUJccJVxspbD"
   },
   "source": [
    "## Imports"
   ]
  },
  {
   "cell_type": "code",
   "execution_count": null,
   "metadata": {
    "colab": {},
    "colab_type": "code",
    "id": "a4MA_5Ydsmkj"
   },
   "outputs": [],
   "source": [
    "import json\n",
    "import zipfile\n",
    "import os, sys\n",
    "\n",
    "import pandas as pd\n",
    "import numpy as np\n",
    "import matplotlib.pyplot as plt\n",
    "%matplotlib inline\n",
    "\n",
    "import sklearn"
   ]
  },
  {
   "cell_type": "markdown",
   "metadata": {
    "colab_type": "text",
    "id": "tH3wXKK5efps"
   },
   "source": [
    "## Download the dataset from kaggle\n",
    "\n"
   ]
  },
  {
   "cell_type": "code",
   "execution_count": null,
   "metadata": {
    "colab": {},
    "colab_type": "code",
    "id": "d72THPfkITqd"
   },
   "outputs": [],
   "source": [
    "# to turn on and off visualization because of the time consumption\n",
    "make_visualization = True\n",
    "\n",
    "username = \"\"  # insert your username here to download the kaggle dataset\n",
    "key = \"\" # insert your API key here to download the kaggle dataset \n",
    "\n",
    "# Values for testing submission_v3.csv - this was better\n",
    "# Score: 0.7033\n",
    "\n",
    "#(array([0.9768539 , 0.76453565]),\n",
    "# array([0.99607336, 0.35073321]),\n",
    "# array([0.98637002, 0.48086708]),\n",
    "# array([455861,  16571]))\n",
    "\n",
    "submission_name = \"submission_v3.csv\"\n",
    "nan_limit = 70\n",
    "max_iter=500\n",
    "test_size=0.8\n",
    "solver='lbfgs'\n",
    "\n",
    "# Values for submission_v1.csv\n",
    "#submission_name = \"submission_v1.csv\"\n",
    "#test_size=0.6\n",
    "#nan_limit = 80\n",
    "#max_iter=200\n",
    "#solver='lbfgs'\n",
    "\n",
    "# Values for testing submission_v2.csv - it was not better\n",
    "#submission_name = \"submission_v2.csv\"\n",
    "#nan_limit = 60\n",
    "#test_size=0.4\n",
    "#max_iter=200\n",
    "#solver='lbfgs'\n",
    "\n",
    "#(array([0.97632943, 0.81419624]),\n",
    "# array([0.99726723, 0.33123028]),\n",
    "# array([0.98668727, 0.47089263]),\n",
    "# array([227974,   8242]))\n",
    "\n",
    "# try another solver #\n",
    "# Score: 0.6543\n",
    "#submission_name = \"submission_v4.csv\"\n",
    "#nan_limit = 70\n",
    "#max_iter=500\n",
    "#test_size=0.8\n",
    "#solver='saga'\n",
    "\n",
    "# more iterations\n",
    "# Score: \n",
    "#submission_name = \"submission_v5.csv\"\n",
    "#nan_limit = 70\n",
    "#max_iter=1000\n",
    "#test_size=0.8\n",
    "#solver='lbfgs'"
   ]
  },
  {
   "cell_type": "code",
   "execution_count": null,
   "metadata": {
    "colab": {
     "base_uri": "https://localhost:8080/",
     "height": 228
    },
    "colab_type": "code",
    "id": "6-8ZlKBX-y79",
    "outputId": "c3636a99-f8bd-4483-8bef-9038280ca107"
   },
   "outputs": [],
   "source": [
    "!pip install kaggle\n",
    "\n",
    "api_token = {\"username\": username,\"key\": key}\n",
    "\n",
    "!mkdir /root/.kaggle\n",
    "with open('/root/.kaggle/kaggle.json', 'w') as file:\n",
    "    json.dump(api_token, file)\n",
    "!chmod 600 /root/.kaggle/kaggle.json # that nobody else can read your file"
   ]
  },
  {
   "cell_type": "code",
   "execution_count": null,
   "metadata": {
    "colab": {
     "base_uri": "https://localhost:8080/",
     "height": 142
    },
    "colab_type": "code",
    "id": "vlQMvW6cLH4G",
    "outputId": "8ff5774a-9ab9-43e4-a178-17789496d184"
   },
   "outputs": [],
   "source": [
    "# sometimes one must start 2 times in colab - I don't know why \n",
    "!kaggle competitions download -c ieee-fraud-detection\n",
    "print(os.listdir())\n"
   ]
  },
  {
   "cell_type": "markdown",
   "metadata": {
    "colab_type": "text",
    "id": "PFrTzcZZs4Xt"
   },
   "source": [
    "## Some helper functions to handle numerical and categorical data"
   ]
  },
  {
   "cell_type": "code",
   "execution_count": null,
   "metadata": {
    "colab": {},
    "colab_type": "code",
    "id": "LK9wUZkVHl8G"
   },
   "outputs": [],
   "source": [
    "def create_col_name(base_str, start_int, end_int):\n",
    "    return [base_str + str(i) for i in range(start_int, end_int+1)]"
   ]
  },
  {
   "cell_type": "code",
   "execution_count": null,
   "metadata": {
    "colab": {
     "base_uri": "https://localhost:8080/",
     "height": 34
    },
    "colab_type": "code",
    "id": "CxWUbJU7HntP",
    "outputId": "cd45f454-805c-4b2c-b261-aa95a332f09a"
   },
   "outputs": [],
   "source": [
    "create_col_name('card', 1, 6)"
   ]
  },
  {
   "cell_type": "code",
   "execution_count": null,
   "metadata": {
    "colab": {},
    "colab_type": "code",
    "id": "u8AKniAsHryD"
   },
   "outputs": [],
   "source": [
    "cat_cols = (['ProductCD'] + create_col_name('card', 1, 6) + ['addr1', 'addr2', 'P_emaildomain', 'R_emaildomain'] + \n",
    "            create_col_name('M', 1, 9) + ['DeviceType', 'DeviceInfo'] + create_col_name('id_', 12, 38))\n",
    "\n",
    "id_cols = ['TransactionID', 'TransactionDT']\n",
    "\n",
    "target = 'isFraud'"
   ]
  },
  {
   "cell_type": "code",
   "execution_count": null,
   "metadata": {
    "colab": {},
    "colab_type": "code",
    "id": "UPnmhfT0Hu_t"
   },
   "outputs": [],
   "source": [
    "type_map = {c: str for c in cat_cols + id_cols}"
   ]
  },
  {
   "cell_type": "markdown",
   "metadata": {
    "colab_type": "text",
    "id": "u0spdDfctAZj"
   },
   "source": [
    "## Load the training data"
   ]
  },
  {
   "cell_type": "code",
   "execution_count": null,
   "metadata": {
    "colab": {},
    "colab_type": "code",
    "id": "d8GchE5nHw9V"
   },
   "outputs": [],
   "source": [
    "os.chdir('/content')\n",
    "df_train_id = pd.read_csv('train_identity.csv.zip', dtype=type_map)\n",
    "df_train_trans = pd.read_csv('train_transaction.csv.zip', dtype=type_map)"
   ]
  },
  {
   "cell_type": "code",
   "execution_count": null,
   "metadata": {
    "colab": {
     "base_uri": "https://localhost:8080/",
     "height": 34
    },
    "colab_type": "code",
    "id": "1JkDm0PhHzsr",
    "outputId": "27a58481-14e3-42a7-983f-27d727569dcc"
   },
   "outputs": [],
   "source": [
    "df_train_id.shape, df_train_trans.shape"
   ]
  },
  {
   "cell_type": "code",
   "execution_count": null,
   "metadata": {
    "colab": {},
    "colab_type": "code",
    "id": "pkiit-6xZ9uU"
   },
   "outputs": [],
   "source": [
    "#df_train_trans.dtypes"
   ]
  },
  {
   "cell_type": "markdown",
   "metadata": {
    "colab_type": "text",
    "id": "DJTud1hcfWvx"
   },
   "source": [
    "## Visualize the dataset - 1"
   ]
  },
  {
   "cell_type": "code",
   "execution_count": null,
   "metadata": {
    "colab": {},
    "colab_type": "code",
    "id": "NoQPK_rogFJu"
   },
   "outputs": [],
   "source": [
    "if make_visualization:\n",
    "  df_train_trans.head(10)"
   ]
  },
  {
   "cell_type": "code",
   "execution_count": null,
   "metadata": {
    "colab": {},
    "colab_type": "code",
    "id": "vNfqJFn1g0ul"
   },
   "outputs": [],
   "source": [
    "if make_visualization:\n",
    "  df_train_id.head()"
   ]
  },
  {
   "cell_type": "markdown",
   "metadata": {
    "colab_type": "text",
    "id": "U9hYmYIGeZRi"
   },
   "source": [
    "## Merge the data"
   ]
  },
  {
   "cell_type": "code",
   "execution_count": null,
   "metadata": {
    "colab": {},
    "colab_type": "code",
    "id": "5utxDW3JvkAK"
   },
   "outputs": [],
   "source": [
    "df_train = df_train_trans.merge(df_train_id, on='TransactionID', how='left')"
   ]
  },
  {
   "cell_type": "markdown",
   "metadata": {
    "colab_type": "text",
    "id": "LSRVM7hvPGvt"
   },
   "source": []
  },
  {
   "cell_type": "code",
   "execution_count": null,
   "metadata": {
    "colab": {},
    "colab_type": "code",
    "id": "DzEEkKOBMt0G"
   },
   "outputs": [],
   "source": [
    "numeric_cols = [col for col in df_train.columns.tolist() if col not in cat_cols + id_cols + [target]]"
   ]
  },
  {
   "cell_type": "code",
   "execution_count": null,
   "metadata": {
    "colab": {},
    "colab_type": "code",
    "id": "PDSmehIwMwyi"
   },
   "outputs": [],
   "source": [
    "assert(df_train.shape[0]==df_train_trans.shape[0])"
   ]
  },
  {
   "cell_type": "code",
   "execution_count": null,
   "metadata": {
    "colab": {},
    "colab_type": "code",
    "id": "2qrS1I8-MzMp"
   },
   "outputs": [],
   "source": [
    "if make_visualization:\n",
    "  df_train.head(10)"
   ]
  },
  {
   "cell_type": "code",
   "execution_count": null,
   "metadata": {
    "colab": {},
    "colab_type": "code",
    "id": "t9MMYSjPM0fl"
   },
   "outputs": [],
   "source": [
    "if make_visualization: \n",
    "  df_train[cat_cols].head()"
   ]
  },
  {
   "cell_type": "code",
   "execution_count": null,
   "metadata": {
    "colab": {},
    "colab_type": "code",
    "id": "MgUbDfHRM4Aa"
   },
   "outputs": [],
   "source": [
    "if make_visualization: \n",
    "  df_train[numeric_cols].head()"
   ]
  },
  {
   "cell_type": "code",
   "execution_count": null,
   "metadata": {
    "colab": {
     "base_uri": "https://localhost:8080/",
     "height": 105
    },
    "colab_type": "code",
    "id": "yui3DoF7M7sD",
    "outputId": "dec6ef5d-2ec2-4b71-d196-4dab37e6734f"
   },
   "outputs": [],
   "source": [
    "df_train.info()"
   ]
  },
  {
   "cell_type": "code",
   "execution_count": null,
   "metadata": {
    "colab": {},
    "colab_type": "code",
    "id": "ybfFV9oa4xU9"
   },
   "outputs": [],
   "source": [
    "#df_drop = df_train.dropna()"
   ]
  },
  {
   "cell_type": "code",
   "execution_count": null,
   "metadata": {
    "colab": {},
    "colab_type": "code",
    "id": "PTH-Jj-544Wk"
   },
   "outputs": [],
   "source": [
    "# yeah that's great - no data remained !!!! \n",
    "#df_drop.head()"
   ]
  },
  {
   "cell_type": "markdown",
   "metadata": {
    "colab_type": "text",
    "id": "tQjZ5Ytrtozi"
   },
   "source": [
    "## Remove columns with NAN over a certain limit"
   ]
  },
  {
   "cell_type": "code",
   "execution_count": null,
   "metadata": {
    "colab": {},
    "colab_type": "code",
    "id": "iIqcDLD05GiE"
   },
   "outputs": [],
   "source": [
    "# ok let us try another method \n",
    "# remove the columns with NAN over a certain limit\n",
    "nan_limit = 80"
   ]
  },
  {
   "cell_type": "code",
   "execution_count": null,
   "metadata": {
    "colab": {},
    "colab_type": "code",
    "id": "HGAZ7FbdK_yb"
   },
   "outputs": [],
   "source": [
    "# processing categorical values\n",
    "cat_cols_missing = {}\n",
    "cat_cols_good = []\n",
    "cat_cols_bad = []\n",
    "\n",
    "for col in cat_cols:\n",
    "  cat_cols_missing[col] = 100*df_train[col].isnull().sum()/len(df_train[col])\n",
    "  #print(col + ': ' + str(100*df_train[col].isnull().sum()/len(df_train[col])))\n",
    "  if cat_cols_missing[col] < nan_limit:\n",
    "    cat_cols_good.append(col)\n",
    "  else:\n",
    "    cat_cols_bad.append(col)"
   ]
  },
  {
   "cell_type": "code",
   "execution_count": null,
   "metadata": {
    "colab": {},
    "colab_type": "code",
    "id": "laisDVYQLFm6"
   },
   "outputs": [],
   "source": [
    "# processing numerical values\n",
    "numeric_cols_missing = {}\n",
    "numeric_cols_good = []\n",
    "numeric_cols_bad = []\n",
    "# isFraud is always good\n",
    "#numeric_cols_good.append(target)\n",
    "for col in numeric_cols:\n",
    "  numeric_cols_missing[col] = 100*df_train[col].isnull().sum()/len(df_train[col])\n",
    "  #print(col + ': ' + str(100*df_train[col].isnull().sum()/len(df_train[col])))\n",
    "  if numeric_cols_missing[col] < nan_limit:\n",
    "    numeric_cols_good.append(col)\n",
    "  else:\n",
    "    numeric_cols_bad.append(col)"
   ]
  },
  {
   "cell_type": "code",
   "execution_count": null,
   "metadata": {
    "colab": {},
    "colab_type": "code",
    "id": "gDW8pKBXA9_M"
   },
   "outputs": [],
   "source": [
    "numeric_cols_good\n",
    "good_cols = []\n",
    "good_cols.extend(numeric_cols_good)\n",
    "good_cols.extend(cat_cols_good)\n",
    "good_cols.append(target)\n",
    "\n",
    "bad_cols = []\n",
    "bad_cols.extend(numeric_cols_bad)\n",
    "bad_cols.extend(cat_cols_bad)\n",
    "\n",
    "all_cols = []\n",
    "all_cols.extend(numeric_cols)\n",
    "all_cols.extend(cat_cols)"
   ]
  },
  {
   "cell_type": "code",
   "execution_count": null,
   "metadata": {
    "colab": {},
    "colab_type": "code",
    "id": "xx2qqVSrBQH8"
   },
   "outputs": [],
   "source": [
    "#all_cols, good_cols, bad_cols"
   ]
  },
  {
   "cell_type": "code",
   "execution_count": null,
   "metadata": {
    "colab": {
     "base_uri": "https://localhost:8080/",
     "height": 34
    },
    "colab_type": "code",
    "id": "jWdgCw6dLbGa",
    "outputId": "bc1e6b65-e2b9-41bb-f6a4-95a986ed4a44"
   },
   "outputs": [],
   "source": [
    "# here I can optimize the code !!!\n",
    "df_try1 = pd.DataFrame()\n",
    "df_try2 = pd.DataFrame()\n",
    "numeric_cols_good2 = numeric_cols_good[:]\n",
    "numeric_cols_good2.append(\"isFraud\")\n",
    "df_try1 = df_train[numeric_cols_good2]\n",
    "df_try2 = df_train[cat_cols_good]\n",
    "\n",
    "df_try = df_try1.merge(df_try2, left_index=True, right_index=True, how='left')\n",
    "\n",
    "df_try1.shape, df_try2.shape, df_try.shape\n",
    "#df_try1.append(df_try2, ignore_index=True)\n"
   ]
  },
  {
   "cell_type": "code",
   "execution_count": null,
   "metadata": {
    "colab": {
     "base_uri": "https://localhost:8080/",
     "height": 34
    },
    "colab_type": "code",
    "id": "ZKZs-mwKRmGn",
    "outputId": "79b1a86a-54f7-4bc3-896c-dcacb47021da"
   },
   "outputs": [],
   "source": [
    "df_train[numeric_cols_good].shape, df_train[cat_cols_good].shape, df_train['isFraud'].shape"
   ]
  },
  {
   "cell_type": "code",
   "execution_count": null,
   "metadata": {
    "colab": {},
    "colab_type": "code",
    "id": "mhmtXXaKPaz_"
   },
   "outputs": [],
   "source": [
    "assert(df_train.shape[0]==df_try.shape[0])"
   ]
  },
  {
   "cell_type": "code",
   "execution_count": null,
   "metadata": {
    "colab": {},
    "colab_type": "code",
    "id": "EfkHYg3iLfDD"
   },
   "outputs": [],
   "source": [
    "if make_visualization: \n",
    "  df_try.head(10)"
   ]
  },
  {
   "cell_type": "code",
   "execution_count": null,
   "metadata": {
    "colab": {
     "base_uri": "https://localhost:8080/",
     "height": 34
    },
    "colab_type": "code",
    "id": "owDALIsKLkki",
    "outputId": "791a27c1-81ae-4b3c-fe69-2be5ce5a4a38"
   },
   "outputs": [],
   "source": [
    "df_try.shape, df_train.shape"
   ]
  },
  {
   "cell_type": "code",
   "execution_count": null,
   "metadata": {
    "colab": {
     "base_uri": "https://localhost:8080/",
     "height": 105
    },
    "colab_type": "code",
    "id": "X3pQif8kPkBJ",
    "outputId": "2df424e8-1a9f-42bf-d99c-015a3116e992"
   },
   "outputs": [],
   "source": [
    "df_try.info()"
   ]
  },
  {
   "cell_type": "code",
   "execution_count": null,
   "metadata": {
    "colab": {
     "base_uri": "https://localhost:8080/",
     "height": 34
    },
    "colab_type": "code",
    "id": "0eLSqDryMmOZ",
    "outputId": "764ec290-feea-46a1-de2d-c0b9bd8a1548"
   },
   "outputs": [],
   "source": [
    "# How many isFraud data did we have?\n",
    "df_try['isFraud'].sum()"
   ]
  },
  {
   "cell_type": "code",
   "execution_count": null,
   "metadata": {
    "colab": {
     "base_uri": "https://localhost:8080/",
     "height": 34
    },
    "colab_type": "code",
    "id": "ZtSg30sonZdI",
    "outputId": "2d0ad528-da73-46fe-bb2e-b914606eb69e"
   },
   "outputs": [],
   "source": [
    "100-df_try['isFraud'].sum()/df_try.shape[0]*100"
   ]
  },
  {
   "cell_type": "markdown",
   "metadata": {
    "colab_type": "text",
    "id": "EYSZBDe4P03d"
   },
   "source": [
    "Questions:\n",
    "- How to deal with the categorical data - made a pipeline for both numerical and categorical data\n",
    "- How to deal with the unbalance of the dataset (much more nonFraud than isFraud) - at the moment I don't treat it :-)\n",
    "- How to deal with the NAN's for logistic regression models (can I treat them as zeros?) - in the pipeline I treat them as 'missing'"
   ]
  },
  {
   "cell_type": "markdown",
   "metadata": {
    "colab_type": "text",
    "id": "moBevn9GWUlM"
   },
   "source": [
    "## Visualization of the dataset - 2"
   ]
  },
  {
   "cell_type": "code",
   "execution_count": null,
   "metadata": {
    "colab": {},
    "colab_type": "code",
    "id": "TgQWqp3wWSs5"
   },
   "outputs": [],
   "source": [
    "import seaborn as sns"
   ]
  },
  {
   "cell_type": "code",
   "execution_count": null,
   "metadata": {
    "colab": {
     "base_uri": "https://localhost:8080/",
     "height": 1000
    },
    "colab_type": "code",
    "id": "-LrbFGINWZ3J",
    "outputId": "1eba7ffe-0de6-427e-c558-1bdcc2a41809"
   },
   "outputs": [],
   "source": [
    "if make_visualization: \n",
    "  sns.set(style=\"whitegrid\", context=\"notebook\")\n",
    "  cols = numeric_cols[0:10]\n",
    "  cols.append('isFraud')\n",
    "  sns.pairplot(df_train[cols], size=2.5)\n",
    "  plt.show()"
   ]
  },
  {
   "cell_type": "code",
   "execution_count": null,
   "metadata": {
    "colab": {
     "base_uri": "https://localhost:8080/",
     "height": 1000
    },
    "colab_type": "code",
    "id": "n1DE6g3_biGU",
    "outputId": "942e5f2c-3231-4f8f-d2d0-fc8f28c8df99"
   },
   "outputs": [],
   "source": [
    "if make_visualization: \n",
    "  sns.set(style=\"whitegrid\", context=\"notebook\")\n",
    "  cols = numeric_cols[11:21]\n",
    "  cols.append('isFraud')\n",
    "  sns.pairplot(df_train[cols], size=2.5)\n",
    "  plt.show()"
   ]
  },
  {
   "cell_type": "code",
   "execution_count": null,
   "metadata": {
    "colab": {
     "base_uri": "https://localhost:8080/",
     "height": 291
    },
    "colab_type": "code",
    "id": "nRm2x8qiqKwv",
    "outputId": "fef1b320-23ba-4586-ac8e-71c4813a6a34"
   },
   "outputs": [],
   "source": [
    "if make_visualization: \n",
    "  sns.set(style=\"whitegrid\")\n",
    "  ax = sns.stripplot(x=\"isFraud\", y=\"card1\", data=df_train)"
   ]
  },
  {
   "cell_type": "code",
   "execution_count": null,
   "metadata": {
    "colab": {
     "base_uri": "https://localhost:8080/",
     "height": 291
    },
    "colab_type": "code",
    "id": "A0i8tw92VcCE",
    "outputId": "0477571e-ce65-4154-c7fd-a46b3fe9f333"
   },
   "outputs": [],
   "source": [
    "if make_visualization: \n",
    "  sns.set(style=\"whitegrid\")\n",
    "  ax = sns.stripplot(x=\"isFraud\", y=\"dist1\", data=df_train)"
   ]
  },
  {
   "cell_type": "code",
   "execution_count": null,
   "metadata": {
    "colab": {
     "base_uri": "https://localhost:8080/",
     "height": 291
    },
    "colab_type": "code",
    "id": "4EydmlIbW7x0",
    "outputId": "15023744-a1ce-46ac-d52d-5c31cb6a3ca8"
   },
   "outputs": [],
   "source": [
    "if make_visualization:\n",
    "  ax = sns.stripplot(x=\"card1\", y=\"dist1\", hue=\"isFraud\", data=df_train, jitter=True)"
   ]
  },
  {
   "cell_type": "markdown",
   "metadata": {
    "colab_type": "text",
    "id": "sveMvxdPQvlM"
   },
   "source": [
    "\n",
    "\n",
    "\n",
    "\n",
    "\n",
    "\n",
    "\n",
    "\n",
    "\n",
    "\n",
    "\n",
    "\n",
    "\n",
    "## Train a model"
   ]
  },
  {
   "cell_type": "code",
   "execution_count": null,
   "metadata": {
    "colab": {},
    "colab_type": "code",
    "id": "BXxHDDseM4cc"
   },
   "outputs": [],
   "source": [
    "# time for machine learning\n",
    "from sklearn.model_selection import train_test_split\n",
    "from sklearn import linear_model"
   ]
  },
  {
   "cell_type": "code",
   "execution_count": null,
   "metadata": {
    "colab": {},
    "colab_type": "code",
    "id": "M-7pc2_IBmob"
   },
   "outputs": [],
   "source": [
    "from sklearn.compose import ColumnTransformer\n",
    "from sklearn.pipeline import Pipeline\n",
    "from sklearn.preprocessing import StandardScaler, OneHotEncoder\n",
    "from sklearn.linear_model import LogisticRegression\n",
    "from sklearn.impute import SimpleImputer"
   ]
  },
  {
   "cell_type": "code",
   "execution_count": null,
   "metadata": {
    "colab": {},
    "colab_type": "code",
    "id": "U_21hZgIMqRk"
   },
   "outputs": [],
   "source": [
    "# We create the preprocessing pipelines for both numeric and categorical data.\n",
    "numeric_features = numeric_cols_good\n",
    "numeric_transformer = Pipeline(steps=[\n",
    "    ('imputer', SimpleImputer(strategy='median')),\n",
    "    ('scaler', StandardScaler())])"
   ]
  },
  {
   "cell_type": "code",
   "execution_count": null,
   "metadata": {
    "colab": {},
    "colab_type": "code",
    "id": "Nzz6inJZNO8g"
   },
   "outputs": [],
   "source": [
    "categorical_features = cat_cols_good\n",
    "categorical_transformer = Pipeline(steps=[\n",
    "    ('imputer', SimpleImputer(strategy='constant', fill_value='missing')),\n",
    "    ('onehot', OneHotEncoder(handle_unknown='ignore'))])"
   ]
  },
  {
   "cell_type": "code",
   "execution_count": null,
   "metadata": {
    "colab": {},
    "colab_type": "code",
    "id": "RIJE-q95NiSr"
   },
   "outputs": [],
   "source": [
    "preprocessor = ColumnTransformer(\n",
    "    transformers=[\n",
    "        ('num', numeric_transformer, numeric_features),\n",
    "        ('cat', categorical_transformer, categorical_features)])"
   ]
  },
  {
   "cell_type": "code",
   "execution_count": null,
   "metadata": {
    "colab": {},
    "colab_type": "code",
    "id": "Tub54ws4N2xk"
   },
   "outputs": [],
   "source": [
    "# Append classifier to preprocessing pipeline.\n",
    "# Now we have a full prediction pipeline.\n",
    "clf = Pipeline(steps=[('preprocessor', preprocessor),\n",
    "                      ('classifier', LogisticRegression(C=1e5, solver=solver, max_iter=max_iter))])\n",
    "#clf = Pipeline(steps=[('preprocessor', preprocessor),\n",
    "#                      ('classifier', LogisticRegression(C=1e5, solver='saga', max_iter=200))])"
   ]
  },
  {
   "cell_type": "code",
   "execution_count": null,
   "metadata": {
    "colab": {},
    "colab_type": "code",
    "id": "xjRn3e_3Q_d3"
   },
   "outputs": [],
   "source": [
    "x = df_try.drop('isFraud', axis=1)\n",
    "y = df_try['isFraud']\n",
    "\n",
    "#X_train, X_test, y_train, y_test = train_test_split(x, y, test_size=0.6)\n",
    "X_train, X_test, y_train, y_test = train_test_split(x, y, test_size=test_size)\n",
    "\n"
   ]
  },
  {
   "cell_type": "code",
   "execution_count": null,
   "metadata": {
    "colab": {
     "base_uri": "https://localhost:8080/",
     "height": 90
    },
    "colab_type": "code",
    "id": "mu9vu5I0N-Rw",
    "outputId": "320864ef-83c8-494a-da34-3e56c2045c44"
   },
   "outputs": [],
   "source": [
    "clf.fit(X_train, y_train)\n",
    "print(\"model score: %.3f\" % clf.score(X_test, y_test))"
   ]
  },
  {
   "cell_type": "code",
   "execution_count": null,
   "metadata": {
    "colab": {
     "base_uri": "https://localhost:8080/",
     "height": 261
    },
    "colab_type": "code",
    "id": "I5T--pV3qQUv",
    "outputId": "6d59a73a-6541-4b14-b1fa-99f2137aacfe"
   },
   "outputs": [],
   "source": [
    "X_train.head()"
   ]
  },
  {
   "cell_type": "code",
   "execution_count": null,
   "metadata": {
    "colab": {
     "base_uri": "https://localhost:8080/",
     "height": 34
    },
    "colab_type": "code",
    "id": "oWnmVr8KqXBW",
    "outputId": "d49dbbde-4e81-403e-9f81-20b612bcb5f2"
   },
   "outputs": [],
   "source": [
    "100-100*y_train.sum()/len(y_train), y_train.sum(), len(y_train), "
   ]
  },
  {
   "cell_type": "code",
   "execution_count": null,
   "metadata": {
    "colab": {},
    "colab_type": "code",
    "id": "rqrLCaKKsdco"
   },
   "outputs": [],
   "source": [
    "from sklearn.metrics import precision_recall_fscore_support"
   ]
  },
  {
   "cell_type": "code",
   "execution_count": null,
   "metadata": {
    "colab": {},
    "colab_type": "code",
    "id": "pXXlM_Gwt7D5"
   },
   "outputs": [],
   "source": [
    "predicted_values = clf.predict(X_test)"
   ]
  },
  {
   "cell_type": "code",
   "execution_count": null,
   "metadata": {
    "colab": {
     "base_uri": "https://localhost:8080/",
     "height": 87
    },
    "colab_type": "code",
    "id": "ithauqi4uSvM",
    "outputId": "ee52cc9d-caaa-419f-b5f6-347d2c8ef7ff"
   },
   "outputs": [],
   "source": [
    "precision_recall_fscore_support(y_test,predicted_values)\n",
    "# precision, recall, F-measure, support "
   ]
  },
  {
   "cell_type": "markdown",
   "metadata": {
    "colab_type": "text",
    "id": "gY99J5WqNSd7"
   },
   "source": [
    "## Load test data"
   ]
  },
  {
   "cell_type": "code",
   "execution_count": null,
   "metadata": {
    "colab": {},
    "colab_type": "code",
    "id": "1uPkk0i3NWJ_"
   },
   "outputs": [],
   "source": [
    "df_test_id = pd.read_csv('test_identity.csv.zip', dtype=type_map)\n",
    "df_test_trans = pd.read_csv('test_transaction.csv.zip', dtype=type_map)"
   ]
  },
  {
   "cell_type": "code",
   "execution_count": null,
   "metadata": {
    "colab": {
     "base_uri": "https://localhost:8080/",
     "height": 450
    },
    "colab_type": "code",
    "id": "BgwH7uR8NshL",
    "outputId": "5c725374-4fd4-4c17-b812-20de8e8137da"
   },
   "outputs": [],
   "source": [
    "df_test_id.head()"
   ]
  },
  {
   "cell_type": "code",
   "execution_count": null,
   "metadata": {
    "colab": {
     "base_uri": "https://localhost:8080/",
     "height": 392
    },
    "colab_type": "code",
    "id": "z-LNlNTRNxab",
    "outputId": "b8295651-7353-4f7a-f75c-552a59c57b17"
   },
   "outputs": [],
   "source": [
    "df_test_trans.head(10)"
   ]
  },
  {
   "cell_type": "code",
   "execution_count": null,
   "metadata": {
    "colab": {},
    "colab_type": "code",
    "id": "D9ig9hgCOEs8"
   },
   "outputs": [],
   "source": [
    "df_test = df_test_trans.merge(df_test_id, on='TransactionID', how='left')"
   ]
  },
  {
   "cell_type": "code",
   "execution_count": null,
   "metadata": {
    "colab": {
     "base_uri": "https://localhost:8080/",
     "height": 244
    },
    "colab_type": "code",
    "id": "nNuhPYqXOIga",
    "outputId": "808ca3db-719b-4aba-ef23-c20e24256047"
   },
   "outputs": [],
   "source": [
    "df_test.head()"
   ]
  },
  {
   "cell_type": "code",
   "execution_count": null,
   "metadata": {
    "colab": {},
    "colab_type": "code",
    "id": "yomXE4i1QDoE"
   },
   "outputs": [],
   "source": [
    "bad_cols.extend(id_cols)"
   ]
  },
  {
   "cell_type": "code",
   "execution_count": null,
   "metadata": {
    "colab": {},
    "colab_type": "code",
    "id": "8CqEoqxZCLbU"
   },
   "outputs": [],
   "source": [
    "x_verification = df_test.drop(bad_cols, axis=1)"
   ]
  },
  {
   "cell_type": "markdown",
   "metadata": {},
   "source": [
    "## Predict the values for the test data"
   ]
  },
  {
   "cell_type": "code",
   "execution_count": null,
   "metadata": {
    "colab": {},
    "colab_type": "code",
    "id": "kQJUNuI3CWIC"
   },
   "outputs": [],
   "source": [
    "df_test_values = clf.predict(x_verification)"
   ]
  },
  {
   "cell_type": "markdown",
   "metadata": {},
   "source": [
    "## Save a File for Kaggle competition"
   ]
  },
  {
   "cell_type": "code",
   "execution_count": null,
   "metadata": {
    "colab": {},
    "colab_type": "code",
    "id": "Xm5S5gkFDGNp"
   },
   "outputs": [],
   "source": [
    "df_test[\"isFraud\"] = df_test_values"
   ]
  },
  {
   "cell_type": "code",
   "execution_count": null,
   "metadata": {
    "colab": {},
    "colab_type": "code",
    "id": "-7XohXx0E1-4"
   },
   "outputs": [],
   "source": [
    "df_test[['TransactionID', 'isFraud']].to_csv(submission_name, index=False)"
   ]
  },
  {
   "cell_type": "code",
   "execution_count": null,
   "metadata": {
    "colab": {
     "base_uri": "https://localhost:8080/",
     "height": 291
    },
    "colab_type": "code",
    "id": "74ZBxIvGFxZ_",
    "outputId": "3e90748a-8175-4762-92bc-08e4dd34535e"
   },
   "outputs": [],
   "source": [
    " ax = sns.stripplot(x=df_test[\"isFraud\"])"
   ]
  },
  {
   "cell_type": "code",
   "execution_count": null,
   "metadata": {
    "colab": {
     "base_uri": "https://localhost:8080/",
     "height": 244
    },
    "colab_type": "code",
    "id": "Fqz_rNBqGAGJ",
    "outputId": "d774d476-7ce3-457f-c987-2bf7330d5fe9"
   },
   "outputs": [],
   "source": [
    "df_test.head()"
   ]
  }
 ],
 "metadata": {
  "colab": {
   "collapsed_sections": [],
   "machine_shape": "hm",
   "name": "Copy of mmwml_fraud_detection.ipynb",
   "provenance": [],
   "toc_visible": true,
   "version": "0.3.2"
  },
  "kernelspec": {
   "display_name": "Python 3",
   "language": "python",
   "name": "python3"
  },
  "language_info": {
   "codemirror_mode": {
    "name": "ipython",
    "version": 3
   },
   "file_extension": ".py",
   "mimetype": "text/x-python",
   "name": "python",
   "nbconvert_exporter": "python",
   "pygments_lexer": "ipython3",
   "version": "3.7.3"
  }
 },
 "nbformat": 4,
 "nbformat_minor": 1
}
